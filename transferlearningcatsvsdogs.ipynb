{
  "nbformat": 4,
  "nbformat_minor": 0,
  "metadata": {
    "accelerator": "GPU",
    "colab": {
      "name": "Copy of l07c01_saving_and_loading_models.ipynb",
      "provenance": [],
      "collapsed_sections": []
    },
    "kernelspec": {
      "display_name": "Python 3",
      "name": "python3"
    }
  },
  "cells": [
    {
      "cell_type": "markdown",
      "metadata": {
        "id": "W_tvPdyfA-BL"
      },
      "source": [
        "##### Copyright 2019 The TensorFlow Authors."
      ]
    },
    {
      "cell_type": "markdown",
      "metadata": {
        "id": "NxjpzKTvg_dd"
      },
      "source": [
        "# Saving and Loading Models\n",
        "\n",
        "In this tutorial we will learn how we can take a trained model, save it, and then load it back to keep training it or use it to perform inference. In particular, we will use transfer learning to train a classifier to classify images of cats and dogs, just like we did in the previous lesson. We will then take our trained model and save it as an HDF5 file, which is the format used by Keras. We will then load this model, use it to perform predictions, and then continue to train the model. Finally, we will save our trained model as a TensorFlow SavedModel and then we will download it to a local disk, so that it can later be used for deployment in different platforms."
      ]
    },
    {
      "cell_type": "markdown",
      "metadata": {
        "id": "crU-iluJIEzw"
      },
      "source": [
        "## Concepts that will be covered in this Colab\n",
        "\n",
        "1. Saving models in HDF5 format for Keras\n",
        "2. Saving models in the TensorFlow SavedModel format\n",
        "3. Loading models\n",
        "4. Download models to Local Disk\n",
        "\n",
        "Before starting this Colab, you should reset the Colab environment by selecting `Runtime -> Reset all runtimes...` from menu above."
      ]
    },
    {
      "cell_type": "markdown",
      "metadata": {
        "id": "7RVsYZLEpEWs"
      },
      "source": [
        "# Imports\n",
        "\n",
        "In this Colab we will use the TensorFlow 2.0 Beta version. "
      ]
    },
    {
      "cell_type": "code",
      "metadata": {
        "id": "e3BXzUGabcI9",
        "outputId": "b1925dd9-9128-4826-c90f-79b4c633bdef",
        "colab": {
          "base_uri": "https://localhost:8080/",
          "height": 523
        }
      },
      "source": [
        "!pip install -U tensorflow_hub\n",
        "!pip install -U tensorflow_datasets"
      ],
      "execution_count": 2,
      "outputs": [
        {
          "output_type": "stream",
          "name": "stdout",
          "text": [
            "\u001b[33mWARNING: Retrying (Retry(total=4, connect=None, read=None, redirect=None, status=None)) after connection broken by 'NewConnectionError('<pip._vendor.urllib3.connection.VerifiedHTTPSConnection object at 0x7fb94952cfd0>: Failed to establish a new connection: [Errno 8] nodename nor servname provided, or not known')': /simple/tensorflow-hub/\u001b[0m\n",
            "\u001b[33mWARNING: Retrying (Retry(total=3, connect=None, read=None, redirect=None, status=None)) after connection broken by 'NewConnectionError('<pip._vendor.urllib3.connection.VerifiedHTTPSConnection object at 0x7fb94956a8d0>: Failed to establish a new connection: [Errno 8] nodename nor servname provided, or not known')': /simple/tensorflow-hub/\u001b[0m\n",
            "\u001b[33mWARNING: Retrying (Retry(total=2, connect=None, read=None, redirect=None, status=None)) after connection broken by 'NewConnectionError('<pip._vendor.urllib3.connection.VerifiedHTTPSConnection object at 0x7fb94956a550>: Failed to establish a new connection: [Errno 8] nodename nor servname provided, or not known')': /simple/tensorflow-hub/\u001b[0m\n",
            "\u001b[33mWARNING: Retrying (Retry(total=1, connect=None, read=None, redirect=None, status=None)) after connection broken by 'NewConnectionError('<pip._vendor.urllib3.connection.VerifiedHTTPSConnection object at 0x7fb9495ca9d0>: Failed to establish a new connection: [Errno 8] nodename nor servname provided, or not known')': /simple/tensorflow-hub/\u001b[0m\n",
            "\u001b[33mWARNING: Retrying (Retry(total=0, connect=None, read=None, redirect=None, status=None)) after connection broken by 'NewConnectionError('<pip._vendor.urllib3.connection.VerifiedHTTPSConnection object at 0x7fb9495caed0>: Failed to establish a new connection: [Errno 8] nodename nor servname provided, or not known')': /simple/tensorflow-hub/\u001b[0m\n",
            "Collecting tensorflow_hub\n",
            "  Using cached tensorflow_hub-0.9.0-py2.py3-none-any.whl (103 kB)\n",
            "Requirement already satisfied, skipping upgrade: numpy>=1.12.0 in /Users/winsorhoang/Environments/anaconda3/lib/python3.7/site-packages (from tensorflow_hub) (1.18.1)\n",
            "Requirement already satisfied, skipping upgrade: six>=1.12.0 in /Users/winsorhoang/Environments/anaconda3/lib/python3.7/site-packages (from tensorflow_hub) (1.14.0)\n",
            "Collecting protobuf>=3.8.0\n",
            "  Downloading protobuf-3.13.0-cp37-cp37m-macosx_10_9_x86_64.whl (1.3 MB)\n",
            "\u001b[K     |████████████████████████████████| 1.3 MB 1.0 MB/s \n",
            "\u001b[?25hRequirement already satisfied, skipping upgrade: setuptools in /Users/winsorhoang/Environments/anaconda3/lib/python3.7/site-packages (from protobuf>=3.8.0->tensorflow_hub) (46.0.0.post20200309)\n",
            "Installing collected packages: protobuf, tensorflow-hub\n",
            "Successfully installed protobuf-3.13.0 tensorflow-hub-0.9.0\n",
            "\u001b[33mWARNING: You are using pip version 20.1.1; however, version 20.2.3 is available.\n",
            "You should consider upgrading via the '/Users/winsorhoang/Environments/anaconda3/bin/python -m pip install --upgrade pip' command.\u001b[0m\n",
            "Collecting tensorflow_datasets\n",
            "  Using cached tensorflow_datasets-4.0.0-py3-none-any.whl (3.5 MB)\n",
            "Requirement already satisfied, skipping upgrade: six in /Users/winsorhoang/Environments/anaconda3/lib/python3.7/site-packages (from tensorflow_datasets) (1.14.0)\n",
            "Collecting tensorflow-metadata\n",
            "  Using cached tensorflow_metadata-0.24.0-py3-none-any.whl (44 kB)\n",
            "Requirement already satisfied, skipping upgrade: numpy in /Users/winsorhoang/Environments/anaconda3/lib/python3.7/site-packages (from tensorflow_datasets) (1.18.1)\n",
            "Requirement already satisfied, skipping upgrade: requests>=2.19.0 in /Users/winsorhoang/Environments/anaconda3/lib/python3.7/site-packages (from tensorflow_datasets) (2.22.0)\n",
            "Collecting absl-py\n",
            "  Using cached absl_py-0.10.0-py3-none-any.whl (127 kB)\n",
            "Collecting dill\n",
            "  Using cached dill-0.3.2.zip (177 kB)\n",
            "Requirement already satisfied, skipping upgrade: protobuf>=3.6.1 in /Users/winsorhoang/Environments/anaconda3/lib/python3.7/site-packages (from tensorflow_datasets) (3.13.0)\n",
            "Requirement already satisfied, skipping upgrade: future in /Users/winsorhoang/Environments/anaconda3/lib/python3.7/site-packages (from tensorflow_datasets) (0.18.2)\n",
            "Collecting promise\n",
            "  Using cached promise-2.3.tar.gz (19 kB)\n",
            "Collecting importlib-resources; python_version < \"3.9\"\n",
            "  Using cached importlib_resources-3.0.0-py2.py3-none-any.whl (23 kB)\n",
            "Requirement already satisfied, skipping upgrade: attrs>=18.1.0 in /Users/winsorhoang/Environments/anaconda3/lib/python3.7/site-packages (from tensorflow_datasets) (19.3.0)\n",
            "Collecting dm-tree\n",
            "  Downloading dm_tree-0.1.5-cp37-cp37m-macosx_10_9_x86_64.whl (94 kB)\n",
            "\u001b[K     |████████████████████████████████| 94 kB 1.2 MB/s \n",
            "\u001b[?25hRequirement already satisfied, skipping upgrade: tqdm in /Users/winsorhoang/Environments/anaconda3/lib/python3.7/site-packages (from tensorflow_datasets) (4.42.1)\n",
            "Collecting termcolor\n",
            "  Using cached termcolor-1.1.0.tar.gz (3.9 kB)\n",
            "Collecting googleapis-common-protos<2,>=1.52.0\n",
            "  Using cached googleapis_common_protos-1.52.0-py2.py3-none-any.whl (100 kB)\n",
            "Requirement already satisfied, skipping upgrade: chardet<3.1.0,>=3.0.2 in /Users/winsorhoang/Environments/anaconda3/lib/python3.7/site-packages (from requests>=2.19.0->tensorflow_datasets) (3.0.4)\n",
            "Requirement already satisfied, skipping upgrade: certifi>=2017.4.17 in /Users/winsorhoang/Environments/anaconda3/lib/python3.7/site-packages (from requests>=2.19.0->tensorflow_datasets) (2019.11.28)\n",
            "Requirement already satisfied, skipping upgrade: idna<2.9,>=2.5 in /Users/winsorhoang/Environments/anaconda3/lib/python3.7/site-packages (from requests>=2.19.0->tensorflow_datasets) (2.8)\n",
            "Requirement already satisfied, skipping upgrade: urllib3!=1.25.0,!=1.25.1,<1.26,>=1.21.1 in /Users/winsorhoang/Environments/anaconda3/lib/python3.7/site-packages (from requests>=2.19.0->tensorflow_datasets) (1.25.8)\n",
            "Requirement already satisfied, skipping upgrade: setuptools in /Users/winsorhoang/Environments/anaconda3/lib/python3.7/site-packages (from protobuf>=3.6.1->tensorflow_datasets) (46.0.0.post20200309)\n",
            "Requirement already satisfied, skipping upgrade: zipp>=0.4; python_version < \"3.8\" in /Users/winsorhoang/Environments/anaconda3/lib/python3.7/site-packages (from importlib-resources; python_version < \"3.9\"->tensorflow_datasets) (2.2.0)\n",
            "Building wheels for collected packages: dill, promise, termcolor\n",
            "  Building wheel for dill (setup.py) ... \u001b[?25ldone\n",
            "\u001b[?25h  Created wheel for dill: filename=dill-0.3.2-py3-none-any.whl size=78912 sha256=e9a8daab65f2e21d50244fa7d6f1639518f8bbe5293845799d275e1a0e4e139f\n",
            "  Stored in directory: /Users/winsorhoang/Library/Caches/pip/wheels/72/6b/d5/5548aa1b73b8c3d176ea13f9f92066b02e82141549d90e2100\n",
            "  Building wheel for promise (setup.py) ... \u001b[?25ldone\n",
            "\u001b[?25h  Created wheel for promise: filename=promise-2.3-py3-none-any.whl size=21495 sha256=14056cab5bd7b32cd8a5867a6017ca0cd9e1f02236173a2f4ca763fd7a8a676e\n",
            "  Stored in directory: /Users/winsorhoang/Library/Caches/pip/wheels/29/93/c6/762e359f8cb6a5b69c72235d798804cae523bbe41c2aa8333d\n",
            "  Building wheel for termcolor (setup.py) ... \u001b[?25ldone\n",
            "\u001b[?25h  Created wheel for termcolor: filename=termcolor-1.1.0-py3-none-any.whl size=4830 sha256=7658ac60afd5d2159531eeeb843f78bb5fea0cad97fc615500852d307b8bae53\n",
            "  Stored in directory: /Users/winsorhoang/Library/Caches/pip/wheels/3f/e3/ec/8a8336ff196023622fbcb36de0c5a5c218cbb24111d1d4c7f2\n",
            "Successfully built dill promise termcolor\n",
            "Installing collected packages: googleapis-common-protos, absl-py, tensorflow-metadata, dill, promise, importlib-resources, dm-tree, termcolor, tensorflow-datasets\n",
            "Successfully installed absl-py-0.10.0 dill-0.3.2 dm-tree-0.1.5 googleapis-common-protos-1.52.0 importlib-resources-3.0.0 promise-2.3 tensorflow-datasets-4.0.0 tensorflow-metadata-0.24.0 termcolor-1.1.0\n",
            "\u001b[33mWARNING: You are using pip version 20.1.1; however, version 20.2.3 is available.\n",
            "You should consider upgrading via the '/Users/winsorhoang/Environments/anaconda3/bin/python -m pip install --upgrade pip' command.\u001b[0m\n"
          ]
        }
      ]
    },
    {
      "cell_type": "markdown",
      "metadata": {
        "id": "a28UtPNlizGI"
      },
      "source": [
        "Some normal imports we've seen before. "
      ]
    },
    {
      "cell_type": "code",
      "metadata": {
        "id": "OGNpmn43C0O6"
      },
      "source": [
        "import time\n",
        "import numpy as np\n",
        "import matplotlib.pylab as plt\n",
        "\n",
        "import tensorflow as tf\n",
        "import tensorflow_hub as hub\n",
        "import tensorflow_datasets as tfds\n",
        "tfds.disable_progress_bar()\n",
        "\n",
        "from tensorflow.keras import layers"
      ],
      "execution_count": 3,
      "outputs": [
        {
          "output_type": "error",
          "ename": "ModuleNotFoundError",
          "evalue": "No module named 'tensorflow'",
          "traceback": [
            "\u001b[0;31m---------------------------------------------------------------------------\u001b[0m",
            "\u001b[0;31mModuleNotFoundError\u001b[0m                       Traceback (most recent call last)",
            "\u001b[0;32m<ipython-input-3-ac0bf714c7ad>\u001b[0m in \u001b[0;36m<module>\u001b[0;34m\u001b[0m\n\u001b[1;32m      3\u001b[0m \u001b[0;32mimport\u001b[0m \u001b[0mmatplotlib\u001b[0m\u001b[0;34m.\u001b[0m\u001b[0mpylab\u001b[0m \u001b[0;32mas\u001b[0m \u001b[0mplt\u001b[0m\u001b[0;34m\u001b[0m\u001b[0;34m\u001b[0m\u001b[0m\n\u001b[1;32m      4\u001b[0m \u001b[0;34m\u001b[0m\u001b[0m\n\u001b[0;32m----> 5\u001b[0;31m \u001b[0;32mimport\u001b[0m \u001b[0mtensorflow\u001b[0m \u001b[0;32mas\u001b[0m \u001b[0mtf\u001b[0m\u001b[0;34m\u001b[0m\u001b[0;34m\u001b[0m\u001b[0m\n\u001b[0m\u001b[1;32m      6\u001b[0m \u001b[0;32mimport\u001b[0m \u001b[0mtensorflow_hub\u001b[0m \u001b[0;32mas\u001b[0m \u001b[0mhub\u001b[0m\u001b[0;34m\u001b[0m\u001b[0;34m\u001b[0m\u001b[0m\n\u001b[1;32m      7\u001b[0m \u001b[0;32mimport\u001b[0m \u001b[0mtensorflow_datasets\u001b[0m \u001b[0;32mas\u001b[0m \u001b[0mtfds\u001b[0m\u001b[0;34m\u001b[0m\u001b[0;34m\u001b[0m\u001b[0m\n",
            "\u001b[0;31mModuleNotFoundError\u001b[0m: No module named 'tensorflow'"
          ]
        }
      ]
    },
    {
      "cell_type": "markdown",
      "metadata": {
        "id": "amfzqn1Oo7Om"
      },
      "source": [
        "# Part 1: Load the Cats vs. Dogs Dataset"
      ]
    },
    {
      "cell_type": "markdown",
      "metadata": {
        "id": "Z93vvAdGxDMD"
      },
      "source": [
        "We will use TensorFlow Datasets to load the Dogs vs Cats dataset. "
      ]
    },
    {
      "cell_type": "code",
      "metadata": {
        "id": "DrIUV3V0xDL_"
      },
      "source": [
        "(train_examples, validation_examples), info = tfds.load(\n",
        "    'cats_vs_dogs',\n",
        "    split=['train[:80%]', 'train[80%:]'],\n",
        "    with_info=True,\n",
        "    as_supervised=True,\n",
        ")"
      ],
      "execution_count": null,
      "outputs": []
    },
    {
      "cell_type": "markdown",
      "metadata": {
        "id": "mbgpD3E6gM2P"
      },
      "source": [
        "The images in the Dogs vs. Cats dataset are not all the same size. So, we need to reformat all images to the resolution expected by MobileNet (224, 224)"
      ]
    },
    {
      "cell_type": "code",
      "metadata": {
        "id": "we_ftzQxNf7e"
      },
      "source": [
        "def format_image(image, label):\n",
        "  # `hub` image modules exepct their data normalized to the [0,1] range.\n",
        "  image = tf.image.resize(image, (IMAGE_RES, IMAGE_RES))/255.0\n",
        "  return  image, label\n",
        "\n",
        "num_examples = info.splits['train'].num_examples\n",
        "\n",
        "BATCH_SIZE = 32\n",
        "IMAGE_RES = 224\n",
        "\n",
        "train_batches      = train_examples.cache().shuffle(num_examples//4).map(format_image).batch(BATCH_SIZE).prefetch(1)\n",
        "validation_batches = validation_examples.cache().map(format_image).batch(BATCH_SIZE).prefetch(1)"
      ],
      "execution_count": null,
      "outputs": []
    },
    {
      "cell_type": "markdown",
      "metadata": {
        "id": "JzV457OXreQP"
      },
      "source": [
        "# Part 2: Transfer Learning with TensorFlow Hub\n",
        "\n",
        "We will now use TensorFlow Hub to do Transfer Learning."
      ]
    },
    {
      "cell_type": "code",
      "metadata": {
        "id": "5wB030nezBwI"
      },
      "source": [
        "URL = \"https://tfhub.dev/google/tf2-preview/mobilenet_v2/feature_vector/4\"\n",
        "feature_extractor = hub.KerasLayer(URL,\n",
        "                                   input_shape=(IMAGE_RES, IMAGE_RES,3))"
      ],
      "execution_count": null,
      "outputs": []
    },
    {
      "cell_type": "markdown",
      "metadata": {
        "id": "CtFmF7A5E4tk"
      },
      "source": [
        "Freeze the variables in the feature extractor layer, so that the training only modifies the final classifier layer."
      ]
    },
    {
      "cell_type": "code",
      "metadata": {
        "id": "Jg5ar6rcE4H-"
      },
      "source": [
        "feature_extractor.trainable = False"
      ],
      "execution_count": null,
      "outputs": []
    },
    {
      "cell_type": "markdown",
      "metadata": {
        "id": "RPVeouTksO9q"
      },
      "source": [
        "## Attach a classification head\n",
        "\n",
        "Now wrap the hub layer in a `tf.keras.Sequential` model, and add a new classification layer."
      ]
    },
    {
      "cell_type": "code",
      "metadata": {
        "id": "mGcY27fY1q3Q",
        "outputId": "f3d773ad-d7eb-4202-b533-186110e23d3d",
        "colab": {
          "base_uri": "https://localhost:8080/",
          "height": 272
        }
      },
      "source": [
        "model = tf.keras.Sequential([\n",
        "  feature_extractor,\n",
        "  layers.Dense(2)\n",
        "])\n",
        "\n",
        "model.summary()"
      ],
      "execution_count": null,
      "outputs": [
        {
          "output_type": "error",
          "ename": "NameError",
          "evalue": "ignored",
          "traceback": [
            "\u001b[0;31m---------------------------------------------------------------------------\u001b[0m",
            "\u001b[0;31mNameError\u001b[0m                                 Traceback (most recent call last)",
            "\u001b[0;32m<ipython-input-3-51c8b67cd04c>\u001b[0m in \u001b[0;36m<module>\u001b[0;34m()\u001b[0m\n\u001b[0;32m----> 1\u001b[0;31m model = tf.keras.Sequential([\n\u001b[0m\u001b[1;32m      2\u001b[0m   \u001b[0mfeature_extractor\u001b[0m\u001b[0;34m,\u001b[0m\u001b[0;34m\u001b[0m\u001b[0;34m\u001b[0m\u001b[0m\n\u001b[1;32m      3\u001b[0m   \u001b[0mlayers\u001b[0m\u001b[0;34m.\u001b[0m\u001b[0mDense\u001b[0m\u001b[0;34m(\u001b[0m\u001b[0;36m2\u001b[0m\u001b[0;34m)\u001b[0m\u001b[0;34m\u001b[0m\u001b[0;34m\u001b[0m\u001b[0m\n\u001b[1;32m      4\u001b[0m ])\n\u001b[1;32m      5\u001b[0m \u001b[0;34m\u001b[0m\u001b[0m\n",
            "\u001b[0;31mNameError\u001b[0m: name 'tf' is not defined"
          ]
        }
      ]
    },
    {
      "cell_type": "code",
      "metadata": {
        "id": "YgV1uaDeMArN"
      },
      "source": [
        ""
      ],
      "execution_count": null,
      "outputs": []
    },
    {
      "cell_type": "markdown",
      "metadata": {
        "id": "G6hPn-t5MB35"
      },
      "source": [
        ""
      ]
    },
    {
      "cell_type": "code",
      "metadata": {
        "id": "lPS1kxBXMCdo"
      },
      "source": [
        ""
      ],
      "execution_count": null,
      "outputs": []
    },
    {
      "cell_type": "markdown",
      "metadata": {
        "id": "OHbXQqIquFxQ"
      },
      "source": [
        "## Train the model\n",
        "\n",
        "We now train this model like any other, by first calling `compile` followed by `fit`."
      ]
    },
    {
      "cell_type": "code",
      "metadata": {
        "id": "3n0Wb9ylKd8R",
        "outputId": "27a1cd5d-c206-4e43-e651-584e3c819011",
        "colab": {
          "base_uri": "https://localhost:8080/",
          "height": 272
        }
      },
      "source": [
        "model.compile(\n",
        "  optimizer='adam', \n",
        "  loss=tf.losses.SparseCategoricalCrossentropy(from_logits=True),\n",
        "  metrics=['accuracy'])\n",
        "\n",
        "EPOCHS = 3\n",
        "history = model.fit(train_batches,\n",
        "                    epochs=EPOCHS,\n",
        "                    validation_data=validation_batches)"
      ],
      "execution_count": null,
      "outputs": [
        {
          "output_type": "error",
          "ename": "NameError",
          "evalue": "ignored",
          "traceback": [
            "\u001b[0;31m---------------------------------------------------------------------------\u001b[0m",
            "\u001b[0;31mNameError\u001b[0m                                 Traceback (most recent call last)",
            "\u001b[0;32m<ipython-input-2-a3d38dad6888>\u001b[0m in \u001b[0;36m<module>\u001b[0;34m()\u001b[0m\n\u001b[0;32m----> 1\u001b[0;31m model.compile(\n\u001b[0m\u001b[1;32m      2\u001b[0m   \u001b[0moptimizer\u001b[0m\u001b[0;34m=\u001b[0m\u001b[0;34m'adam'\u001b[0m\u001b[0;34m,\u001b[0m\u001b[0;34m\u001b[0m\u001b[0;34m\u001b[0m\u001b[0m\n\u001b[1;32m      3\u001b[0m   \u001b[0mloss\u001b[0m\u001b[0;34m=\u001b[0m\u001b[0mtf\u001b[0m\u001b[0;34m.\u001b[0m\u001b[0mlosses\u001b[0m\u001b[0;34m.\u001b[0m\u001b[0mSparseCategoricalCrossentropy\u001b[0m\u001b[0;34m(\u001b[0m\u001b[0mfrom_logits\u001b[0m\u001b[0;34m=\u001b[0m\u001b[0;32mTrue\u001b[0m\u001b[0;34m)\u001b[0m\u001b[0;34m,\u001b[0m\u001b[0;34m\u001b[0m\u001b[0;34m\u001b[0m\u001b[0m\n\u001b[1;32m      4\u001b[0m   metrics=['accuracy'])\n\u001b[1;32m      5\u001b[0m \u001b[0;34m\u001b[0m\u001b[0m\n",
            "\u001b[0;31mNameError\u001b[0m: name 'model' is not defined"
          ]
        }
      ]
    },
    {
      "cell_type": "markdown",
      "metadata": {
        "id": "kb__ZN8uFn-D"
      },
      "source": [
        "## Check the predictions\n",
        "\n",
        "Get the ordered list of class names."
      ]
    },
    {
      "cell_type": "code",
      "metadata": {
        "id": "W_Zvg2i0fzJu"
      },
      "source": [
        "class_names = np.array(info.features['label'].names)\n",
        "class_names"
      ],
      "execution_count": null,
      "outputs": []
    },
    {
      "cell_type": "markdown",
      "metadata": {
        "id": "4Olg6MsNGJTL"
      },
      "source": [
        "Run an image batch through the model and convert the indices to class names."
      ]
    },
    {
      "cell_type": "code",
      "metadata": {
        "id": "fCLVCpEjJ_VP"
      },
      "source": [
        "image_batch, label_batch = next(iter(train_batches.take(1)))\n",
        "image_batch = image_batch.numpy()\n",
        "label_batch = label_batch.numpy()\n",
        "\n",
        "predicted_batch = model.predict(image_batch)\n",
        "predicted_batch = tf.squeeze(predicted_batch).numpy()\n",
        "predicted_ids = np.argmax(predicted_batch, axis=-1)\n",
        "predicted_class_names = class_names[predicted_ids]\n",
        "predicted_class_names"
      ],
      "execution_count": null,
      "outputs": []
    },
    {
      "cell_type": "markdown",
      "metadata": {
        "id": "CkGbZxl9GZs-"
      },
      "source": [
        "Let's look at the true labels and predicted ones."
      ]
    },
    {
      "cell_type": "code",
      "metadata": {
        "id": "nL9IhOmGI5dJ"
      },
      "source": [
        "print(\"Labels: \", label_batch)\n",
        "print(\"Predicted labels: \", predicted_ids)"
      ],
      "execution_count": null,
      "outputs": []
    },
    {
      "cell_type": "code",
      "metadata": {
        "id": "wC_AYRJU9NQe"
      },
      "source": [
        "plt.figure(figsize=(10,9))\n",
        "for n in range(30):\n",
        "  plt.subplot(6,5,n+1)\n",
        "  plt.imshow(image_batch[n])\n",
        "  color = \"blue\" if predicted_ids[n] == label_batch[n] else \"red\"\n",
        "  plt.title(predicted_class_names[n].title(), color=color)\n",
        "  plt.axis('off')\n",
        "_ = plt.suptitle(\"Model predictions (blue: correct, red: incorrect)\")"
      ],
      "execution_count": null,
      "outputs": []
    },
    {
      "cell_type": "markdown",
      "metadata": {
        "id": "mmPQYQLx3cYq"
      },
      "source": [
        "# Part 3: Save as Keras `.h5` model\n",
        "\n",
        "Now that we've trained the model,  we can save it as an HDF5 file, which is the format used by Keras. Our HDF5 file will have the extension '.h5', and it's name will correpond to the current time stamp."
      ]
    },
    {
      "cell_type": "code",
      "metadata": {
        "id": "tCnNWTkZ3Ckz"
      },
      "source": [
        "t = time.time()\n",
        "\n",
        "export_path_keras = \"./{}.h5\".format(int(t))\n",
        "print(export_path_keras)\n",
        "\n",
        "model.save(export_path_keras)"
      ],
      "execution_count": null,
      "outputs": []
    },
    {
      "cell_type": "code",
      "metadata": {
        "id": "9tdJWVHmnKxJ"
      },
      "source": [
        "!ls"
      ],
      "execution_count": null,
      "outputs": []
    },
    {
      "cell_type": "markdown",
      "metadata": {
        "id": "JgqmH1WVUKli"
      },
      "source": [
        " You can later recreate the same model from this file, even if you no longer have access to the code that created the model.\n",
        "\n",
        "This file includes:\n",
        "\n",
        "- The model's architecture\n",
        "- The model's weight values (which were learned during training)\n",
        "- The model's training config (what you passed to `compile`), if any\n",
        "- The optimizer and its state, if any (this enables you to restart training where you left off)"
      ]
    },
    {
      "cell_type": "markdown",
      "metadata": {
        "id": "yXole25Z799G"
      },
      "source": [
        "# Part 4:  Load the Keras `.h5` Model\n",
        "\n",
        "We will now load the model we just saved into a new model called `reloaded`. We will need to provide the file path and the `custom_objects` parameter. This parameter tells keras how to load the `hub.KerasLayer` from the `feature_extractor` we used for transfer learning."
      ]
    },
    {
      "cell_type": "code",
      "metadata": {
        "id": "Rx-z3Qwx5RnB"
      },
      "source": [
        "reloaded = tf.keras.models.load_model(\n",
        "  export_path_keras, \n",
        "  # `custom_objects` tells keras how to load a `hub.KerasLayer`\n",
        "  custom_objects={'KerasLayer': hub.KerasLayer})\n",
        "\n",
        "reloaded.summary()"
      ],
      "execution_count": null,
      "outputs": []
    },
    {
      "cell_type": "markdown",
      "metadata": {
        "id": "XxDl2vPkf2ST"
      },
      "source": [
        "We can check that the reloaded model and the previous model give the same result"
      ]
    },
    {
      "cell_type": "code",
      "metadata": {
        "id": "MFljA-Hd85Tu"
      },
      "source": [
        "result_batch = model.predict(image_batch)\n",
        "reloaded_result_batch = reloaded.predict(image_batch)"
      ],
      "execution_count": null,
      "outputs": []
    },
    {
      "cell_type": "markdown",
      "metadata": {
        "id": "YeCZUUJK9Svv"
      },
      "source": [
        "The difference in output should be zero:"
      ]
    },
    {
      "cell_type": "code",
      "metadata": {
        "id": "S3p5-uD39PC1"
      },
      "source": [
        "(abs(result_batch - reloaded_result_batch)).max()"
      ],
      "execution_count": null,
      "outputs": []
    },
    {
      "cell_type": "markdown",
      "metadata": {
        "id": "KqU79kKFo7S2"
      },
      "source": [
        "As we can see, the reult is 0.0, which indicates that both models made the same predictions on the same batch of images."
      ]
    },
    {
      "cell_type": "markdown",
      "metadata": {
        "id": "nKunO4soA4Dm"
      },
      "source": [
        "# Keep Training\n",
        "\n",
        "Besides making predictions, we can also take our `reloaded` model and keep training it. To do this, you can just train the `reloaded` as usual, using the `.fit` method."
      ]
    },
    {
      "cell_type": "code",
      "metadata": {
        "id": "NEv-fnHEAplx"
      },
      "source": [
        "EPOCHS = 3\n",
        "history = reloaded.fit(train_batches,\n",
        "                    epochs=EPOCHS,\n",
        "                    validation_data=validation_batches)"
      ],
      "execution_count": null,
      "outputs": []
    },
    {
      "cell_type": "markdown",
      "metadata": {
        "id": "5OKoZaAHFH_s"
      },
      "source": [
        "# Part 5: Export as SavedModel\n"
      ]
    },
    {
      "cell_type": "markdown",
      "metadata": {
        "id": "3V47IwQbFTYT"
      },
      "source": [
        "You can also export a whole model to the TensorFlow SavedModel format. SavedModel is a standalone serialization format for Tensorflow objects, supported by TensorFlow serving as well as TensorFlow implementations other than Python. A SavedModel contains a complete TensorFlow program, including weights and computation. It does not require the original model building code to run, which makes it useful for sharing or deploying (with TFLite, TensorFlow.js, TensorFlow Serving, or TFHub).\n",
        "\n",
        "The SavedModel files that were created contain:\n",
        "\n",
        "* A TensorFlow checkpoint containing the model weights.\n",
        "* A SavedModel proto containing the underlying Tensorflow graph. Separate graphs are saved for prediction (serving), train, and evaluation. If the model wasn't compiled before, then only the inference graph gets exported.\n",
        "* The model's architecture config, if available.\n",
        "\n",
        "\n",
        "Let's save our original `model` as a TensorFlow SavedModel. To do this we will use the `tf.saved_model.save()` function. This functions takes in the model we want to save and the path to the folder where we want to save our model. \n",
        "\n",
        "This function will create a folder where you will find an `assets` folder, a `variables` folder, and the `saved_model.pb` file. "
      ]
    },
    {
      "cell_type": "code",
      "metadata": {
        "id": "LtpeKMfoGXrj"
      },
      "source": [
        "t = time.time()\n",
        "\n",
        "export_path_sm = \"./{}\".format(int(t))\n",
        "print(export_path_sm)\n",
        "\n",
        "tf.saved_model.save(model, export_path_sm)"
      ],
      "execution_count": null,
      "outputs": []
    },
    {
      "cell_type": "code",
      "metadata": {
        "id": "5h6B1wITlu-9"
      },
      "source": [
        "!ls {export_path_sm}"
      ],
      "execution_count": null,
      "outputs": []
    },
    {
      "cell_type": "markdown",
      "metadata": {
        "id": "ktpsqHxJPIQW"
      },
      "source": [
        "# Part 6: Load SavedModel"
      ]
    },
    {
      "cell_type": "markdown",
      "metadata": {
        "id": "v0FDcCn9ncDb"
      },
      "source": [
        "Now, let's load our SavedModel and use it to make predictions. We use the `tf.saved_model.load()` function to load our SavedModels. The object returned by `tf.saved_model.load` is 100% independent of the code that created it."
      ]
    },
    {
      "cell_type": "code",
      "metadata": {
        "id": "c7_PM7lofG2V"
      },
      "source": [
        "reloaded_sm = tf.saved_model.load(export_path_sm)"
      ],
      "execution_count": null,
      "outputs": []
    },
    {
      "cell_type": "markdown",
      "metadata": {
        "id": "esEODdtM0kHB"
      },
      "source": [
        "Now, let's use the `reloaded_sm` (reloaded SavedModel) to make predictions on a batch of images."
      ]
    },
    {
      "cell_type": "code",
      "metadata": {
        "id": "lpQldy_bm3Ty"
      },
      "source": [
        "reload_sm_result_batch = reloaded_sm(image_batch, training=False).numpy()"
      ],
      "execution_count": null,
      "outputs": []
    },
    {
      "cell_type": "markdown",
      "metadata": {
        "id": "65upCyVN0u3Q"
      },
      "source": [
        "We can check that the reloaded SavedModel and the previous model give the same result."
      ]
    },
    {
      "cell_type": "code",
      "metadata": {
        "id": "hoCwmkGznR_0"
      },
      "source": [
        "(abs(result_batch - reload_sm_result_batch)).max()"
      ],
      "execution_count": null,
      "outputs": []
    },
    {
      "cell_type": "markdown",
      "metadata": {
        "id": "wxuETjjs01pL"
      },
      "source": [
        "As we can see, the result is 0.0, which indicates that both models made the same predictions on the same batch of images."
      ]
    },
    {
      "cell_type": "markdown",
      "metadata": {
        "id": "7Nom-ka0yuqB"
      },
      "source": [
        "# Part 7: Loading the SavedModel as a Keras Model\n",
        "\n",
        "The object returned by `tf.saved_model.load` is not a Keras object (i.e. doesn't have `.fit`, `.predict`, `.summary`, etc. methods). Therefore, you can't simply take your `reloaded_sm` model and keep training it by running `.fit`. To be able to get back a full keras model from the Tensorflow SavedModel format we must use the `tf.keras.models.load_model` function. This function will work the same as before, except now we pass the path to the folder containing our SavedModel."
      ]
    },
    {
      "cell_type": "code",
      "metadata": {
        "id": "Vi1jaqh8yvt6"
      },
      "source": [
        "t = time.time()\n",
        "\n",
        "export_path_sm = \"./{}\".format(int(t))\n",
        "print(export_path_sm)\n",
        "tf.saved_model.save(model, export_path_sm)"
      ],
      "execution_count": null,
      "outputs": []
    },
    {
      "cell_type": "code",
      "metadata": {
        "id": "1VPE2_QQGmAP"
      },
      "source": [
        "reload_sm_keras = tf.keras.models.load_model(\n",
        "  export_path_sm,\n",
        "  custom_objects={'KerasLayer': hub.KerasLayer})\n",
        "\n",
        "reload_sm_keras.summary()"
      ],
      "execution_count": null,
      "outputs": []
    },
    {
      "cell_type": "markdown",
      "metadata": {
        "id": "thTbiHE72GL4"
      },
      "source": [
        "Now, let's use the `reloaded_sm)keras` (reloaded Keras model from our SavedModel) to make predictions on a batch of images."
      ]
    },
    {
      "cell_type": "code",
      "metadata": {
        "id": "-0oCJrNLKdKj"
      },
      "source": [
        "result_batch = model.predict(image_batch)\n",
        "reload_sm_keras_result_batch = reload_sm_keras.predict(image_batch)"
      ],
      "execution_count": null,
      "outputs": []
    },
    {
      "cell_type": "markdown",
      "metadata": {
        "id": "jUQaxzFj2Q8k"
      },
      "source": [
        "We can check that the reloaded Keras model and the previous model give the same result."
      ]
    },
    {
      "cell_type": "code",
      "metadata": {
        "id": "DJCD9JJxKg9F"
      },
      "source": [
        "(abs(result_batch - reload_sm_keras_result_batch)).max()"
      ],
      "execution_count": null,
      "outputs": []
    },
    {
      "cell_type": "markdown",
      "metadata": {
        "id": "NFa6jNc4PW9F"
      },
      "source": [
        "# Part 8:  Download your model"
      ]
    },
    {
      "cell_type": "markdown",
      "metadata": {
        "id": "2W_y1qMVQeCm"
      },
      "source": [
        "You can download the SavedModel to your local disk by creating a zip file. We wil use the `-r` (recursice) option to zip all subfolders. "
      ]
    },
    {
      "cell_type": "code",
      "metadata": {
        "id": "WPRFoU1xPCGF"
      },
      "source": [
        "!zip -r model.zip {export_path_sm}"
      ],
      "execution_count": null,
      "outputs": []
    },
    {
      "cell_type": "markdown",
      "metadata": {
        "id": "MBZL85RsQBTj"
      },
      "source": [
        "The zip file is saved in the current working directory. You can see what the current working directory is by running:"
      ]
    },
    {
      "cell_type": "code",
      "metadata": {
        "id": "ALP-DfwSQRL8"
      },
      "source": [
        "!ls"
      ],
      "execution_count": null,
      "outputs": []
    },
    {
      "cell_type": "markdown",
      "metadata": {
        "id": "IR89aU-SRmsL"
      },
      "source": [
        "Once the file is zipped, you can download  it to your local disk. "
      ]
    },
    {
      "cell_type": "code",
      "metadata": {
        "id": "lOXYrlDkNjKQ"
      },
      "source": [
        "try:\n",
        "  from google.colab import files\n",
        "  files.download('./model.zip')\n",
        "except ImportError:\n",
        "  pass"
      ],
      "execution_count": null,
      "outputs": []
    },
    {
      "cell_type": "markdown",
      "metadata": {
        "id": "RzLutxq_SeLQ"
      },
      "source": [
        "The `files.download` command will  search for files in your current working directory. If the file you want to download is in a directory other than the current working directory, you have to include the path to the directory where the file is located."
      ]
    }
  ]
}